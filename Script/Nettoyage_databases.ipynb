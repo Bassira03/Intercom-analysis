{
 "cells": [
  {
   "cell_type": "markdown",
   "id": "edcd4235-bd83-4053-9051-1dea04c47990",
   "metadata": {},
   "source": [
    "Nettoyage Conversation.csv"
   ]
  },
  {
   "cell_type": "code",
   "execution_count": 7,
   "id": "76b71e39-2931-4e33-b3fc-d1e416f04d38",
   "metadata": {},
   "outputs": [
    {
     "name": "stdout",
     "output_type": "stream",
     "text": [
      "✅ Fichier nettoyé exporté : CONVERSATIONS_ready_for_import.csv\n"
     ]
    }
   ],
   "source": [
    "import pandas as pd\n",
    "import numpy as np\n",
    "\n",
    "# Charger le fichier\n",
    "df = pd.read_csv('CONVERSATIONS.csv', low_memory=False)\n",
    "\n",
    "# Colonnes contenant des JSON bruts à aplatir\n",
    "json_columns = ['CONVERSATION_RATING', 'TAGS', 'ASSIGNEE']\n",
    "\n",
    "# Fonction de nettoyage robuste\n",
    "def clean_value(value):\n",
    "    if pd.isna(value) or str(value).strip().lower() in ['null', 'none', 'nan', '']:\n",
    "        return None\n",
    "    value = str(value).replace('\\n', ' ').replace('\\r', ' ')\n",
    "    value = value.replace('\"', '\"\"')  # double les guillemets pour CSV\n",
    "    return value.strip()\n",
    "\n",
    "# Appliquer le nettoyage\n",
    "for col in json_columns:\n",
    "    if col in df.columns:\n",
    "        df[col] = df[col].apply(clean_value)\n",
    "\n",
    "df = df.apply(lambda col: col.map(clean_value))\n",
    "\n",
    "# Exporter en CSV prêt à l'import\n",
    "df.to_csv('CONVERSATIONS_ready_for_import.csv', index=False, quoting=1)  # quoting=1 = csv.QUOTE_ALL\n",
    "print(\"✅ Fichier nettoyé exporté : CONVERSATIONS_ready_for_import.csv\")\n"
   ]
  },
  {
   "cell_type": "markdown",
   "id": "8cd7bdf4-3cae-42f5-bcec-a88573c5d23a",
   "metadata": {},
   "source": [
    "Nettoyage Conversation_parts"
   ]
  },
  {
   "cell_type": "code",
   "execution_count": 9,
   "id": "2c326037-240e-468c-975b-d215240f31dd",
   "metadata": {},
   "outputs": [
    {
     "name": "stdout",
     "output_type": "stream",
     "text": [
      "✅ Fichier nettoyé exporté : CONVERSATION_PARTS_ready_for_import.csv\n"
     ]
    }
   ],
   "source": [
    "import pandas as pd\n",
    "import numpy as np\n",
    "\n",
    "# Charger le fichier\n",
    "df = pd.read_csv('CONVERSATION_PARTS.csv',low_memory=False )\n",
    "\n",
    "# Colonnes JSON ou objets\n",
    "json_columns = ['AUTHOR', 'ATTACHMENTS', 'ASSIGNED_TO']\n",
    "\n",
    "# Fonction de nettoyage robuste\n",
    "def clean_value(value):\n",
    "    if pd.isna(value) or str(value).strip().lower() in ['null', 'none', 'nan', '']:\n",
    "        return None\n",
    "    value = str(value).replace('\\n', ' ').replace('\\r', ' ')\n",
    "    value = value.replace('\"', '\"\"')  # double les guillemets pour CSV\n",
    "    return value.strip()\n",
    "\n",
    "# Appliquer nettoyage ciblé\n",
    "for col in json_columns:\n",
    "    if col in df.columns:\n",
    "        df[col] = df[col].apply(clean_value)\n",
    "\n",
    "df = df.apply(lambda col: col.map(clean_value))\n",
    "\n",
    "# Exporter en CSV prêt à l'import\n",
    "df.to_csv('CONVERSATION_PARTS_ready_for_import.csv', index=False, quoting=1)\n",
    "print(\"✅ Fichier nettoyé exporté : CONVERSATION_PARTS_ready_for_import.csv\")\n"
   ]
  },
  {
   "cell_type": "code",
   "execution_count": null,
   "id": "a3306d6d-0254-48fd-ae8e-47e39d9bb21f",
   "metadata": {},
   "outputs": [],
   "source": []
  }
 ],
 "metadata": {
  "kernelspec": {
   "display_name": "Python [conda env:base] *",
   "language": "python",
   "name": "conda-base-py"
  },
  "language_info": {
   "codemirror_mode": {
    "name": "ipython",
    "version": 3
   },
   "file_extension": ".py",
   "mimetype": "text/x-python",
   "name": "python",
   "nbconvert_exporter": "python",
   "pygments_lexer": "ipython3",
   "version": "3.12.7"
  }
 },
 "nbformat": 4,
 "nbformat_minor": 5
}
